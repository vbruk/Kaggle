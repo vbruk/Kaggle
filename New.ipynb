{
 "cells": [
  {
   "cell_type": "code",
   "execution_count": 39,
   "metadata": {},
   "outputs": [],
   "source": [
    "import pandas as pd\n",
    "import matplotlib.pyplot as plt\n",
    "import seaborn as sns\n",
    "import numpy as np\n",
    "from sklearn.linear_model import LinearRegression\n",
    "from sklearn.metrics import mean_squared_error\n",
    "import xgboost as xgb\n",
    "from sklearn.model_selection import cross_val_score\n",
    "from sklearn.preprocessing import MinMaxScaler\n",
    "from scipy import stats \n",
    "from sklearn import svm\n",
    "from sklearn.model_selection import train_test_split\n",
    "from sklearn.svm import SVC\n",
    "from sklearn.svm import SVR\n",
    "from sklearn.ensemble import RandomForestRegressor\n",
    "from sklearn.model_selection import RandomizedSearchCV\n",
    "import timeit\n",
    "from datetime import datetime\n",
    "from sklearn.model_selection import GridSearchCV\n",
    "import os\n",
    "from sklearn.preprocessing import StandardScaler\n",
    "from sklearn.preprocessing import OneHotEncoder\n",
    "from sklearn.preprocessing import LabelEncoder\n",
    "from sklearn.metrics import mean_squared_error\n",
    "from sklearn import datasets\n",
    "from sklearn.model_selection import KFold\n",
    "from sklearn.model_selection import train_test_split\n",
    "from sklearn.metrics import mean_squared_error\n",
    "from sklearn.metrics import mean_squared_log_error\n",
    "from sklearn.metrics import make_scorer\n",
    "from scipy.stats import shapiro \n",
    "from scipy.stats import norm, lognorm\n",
    "import math\n",
    "from scipy.special import boxcox1p\n",
    "from scipy.stats import boxcox_normmax\n",
    "from sklearn import linear_model\n",
    "from sklearn.linear_model import ElasticNet\n",
    "from sklearn.linear_model import LinearRegression\n",
    "from sklearn.linear_model import Ridge, Lasso\n",
    "from sklearn.preprocessing import RobustScaler\n",
    "from sklearn.tree import DecisionTreeRegressor\n",
    "from sklearn.neighbors import KNeighborsRegressor"
   ]
  },
  {
   "cell_type": "markdown",
   "metadata": {},
   "source": [
    "# Импорт Данных "
   ]
  },
  {
   "cell_type": "code",
   "execution_count": 40,
   "metadata": {},
   "outputs": [],
   "source": [
    "df_train=pd.read_csv('train.csv')\n",
    "df_test=pd.read_csv('test.csv')\n",
    "Id_answr_Array = df_test.Id.values\n",
    "df = pd.concat([df_test.assign(indic=\"test\"), df_train.assign(indic=\"train\")])\n",
    "df.sort_values(by=['Id'],inplace = True)\n",
    "df.reset_index(inplace=True)\n",
    "df.drop(['index'], axis=1,inplace = True)\n",
    "df.drop(['Id'],axis=1,inplace = True)\n",
    "\n",
    "pd.set_option('display.max_columns', 10000)\n",
    "pd.set_option('display.max_rows', 10000)\n",
    "pd.options.display.max_rows = 100000"
   ]
  },
  {
   "cell_type": "markdown",
   "metadata": {},
   "source": [
    "# Ответ"
   ]
  },
  {
   "cell_type": "code",
   "execution_count": 41,
   "metadata": {},
   "outputs": [],
   "source": [
    "ans = pd.read_csv('Real Answers\\Proper_Answers.csv')\n",
    "ans_arr = ans.SalePrice.values"
   ]
  },
  {
   "cell_type": "markdown",
   "metadata": {},
   "source": [
    "# Флаг для переключения RMSE и RMLSE при логарифмировании целевой переменной"
   ]
  },
  {
   "cell_type": "code",
   "execution_count": 42,
   "metadata": {},
   "outputs": [],
   "source": [
    "flag = True"
   ]
  },
  {
   "cell_type": "markdown",
   "metadata": {},
   "source": [
    "# LotFrontage"
   ]
  },
  {
   "cell_type": "code",
   "execution_count": 43,
   "metadata": {},
   "outputs": [],
   "source": [
    "df['LotFrontage'] = df.groupby(['LotConfig'], sort=False)['LotFrontage'].apply(lambda x: x.fillna(x.mean()))"
   ]
  },
  {
   "cell_type": "markdown",
   "metadata": {},
   "source": [
    "# Alley"
   ]
  },
  {
   "cell_type": "code",
   "execution_count": 44,
   "metadata": {},
   "outputs": [],
   "source": [
    "df.Alley.fillna(\"NA\", inplace = True)"
   ]
  },
  {
   "cell_type": "markdown",
   "metadata": {},
   "source": [
    "# Работаем с BsmtQual, BsmtCond, BsmtFinType2, BsmtExposure и BsmtFinType1"
   ]
  },
  {
   "cell_type": "code",
   "execution_count": 45,
   "metadata": {},
   "outputs": [],
   "source": [
    "cond1 = (0 < df.BsmtQual.isnull().astype(int) + df.BsmtCond.isnull().astype(int) + df.BsmtExposure.isnull().astype(int) \\\n",
    "+ df.BsmtFinType1.isnull().astype(int)  + df.BsmtFinType2.isnull().astype(int))  & \\\n",
    "(df.BsmtQual.isnull().astype(int) + df.BsmtCond.isnull().astype(int) + df.BsmtExposure.isnull().astype(int) \\\n",
    "+ df.BsmtFinType1.isnull().astype(int)  + df.BsmtFinType2.isnull().astype(int) < 5)\n",
    "df.loc[332,'BsmtFinType2'] = 'Unf'\n",
    "df.loc[2217,'BsmtQual'] = 'Fa'\n",
    "df.loc[2218,'BsmtQual'] = 'Fa'\n",
    "df.loc[948,'BsmtExposure'] = 'Mn'\n",
    "df.loc[1487,'BsmtExposure'] = 'Av'\n",
    "df.loc[2348,'BsmtExposure'] = 'Mn'\n",
    "df.loc[2040,'BsmtCond'] = 'TA'\n",
    "df.loc[2185,'BsmtCond'] = 'TA'\n",
    "df.loc[2524,'BsmtCond'] = 'TA'\n",
    "NA_Bath_condition = df.BsmtQual.isnull() & df.BsmtCond.isnull() & df.BsmtExposure.isnull() & df.BsmtFinType1.isnull() \\\n",
    "& df.BsmtFinType2.isnull() & (df.BsmtFinSF1 == 0) & (df.BsmtFinSF2 == 0) & (df.BsmtFinSF2 == 0) \\\n",
    "& (df.BsmtUnfSF == 0) & (df.TotalBsmtSF == 0) & (df.BsmtFullBath == 0) & (df.BsmtHalfBath == 0)\n",
    "NA_Bath_columns_extended = ['BsmtQual','BsmtCond','BsmtExposure','BsmtFinType1','BsmtFinType2','BsmtFinSF1','BsmtFinSF2','BsmtFinSF2',\\\n",
    "'BsmtUnfSF','TotalBsmtSF','BsmtFullBath','BsmtHalfBath']\n",
    "NA_Bath_columns = ['BsmtQual','BsmtCond','BsmtExposure','BsmtFinType1','BsmtFinType2']\n",
    "df[NA_Bath_columns] = df[NA_Bath_columns].fillna(\"NA\")"
   ]
  },
  {
   "cell_type": "markdown",
   "metadata": {},
   "source": [
    "# Работаем с переменными GarageType, GarageFinish, GarageCond GarageQual"
   ]
  },
  {
   "cell_type": "code",
   "execution_count": 46,
   "metadata": {},
   "outputs": [],
   "source": [
    "mask1 = df.GarageType.isnull()\n",
    "df.loc[mask1, ['GarageType','GarageCond','GarageQual','GarageFinish']] = df.loc[mask1, ['GarageType','GarageCond','GarageQual','GarageFinish']].fillna('NA')"
   ]
  },
  {
   "cell_type": "markdown",
   "metadata": {},
   "source": [
    "# Работаем с переменной FireplaceQu "
   ]
  },
  {
   "cell_type": "code",
   "execution_count": 47,
   "metadata": {},
   "outputs": [],
   "source": [
    "df.FireplaceQu.fillna('NA', inplace = True)"
   ]
  },
  {
   "cell_type": "markdown",
   "metadata": {},
   "source": [
    "# Работаем с переменной PoolQC "
   ]
  },
  {
   "cell_type": "code",
   "execution_count": 48,
   "metadata": {},
   "outputs": [],
   "source": [
    "mask = (df.PoolArea==0) & df.PoolQC.isna()\n",
    "df.loc[mask,'PoolQC'] = df.loc[mask,'PoolQC'].fillna('NA')\n",
    "df.loc[2420,'PoolQC'] = 'Ex'\n",
    "df.loc[2503,'PoolQC'] = 'Ex'\n",
    "df.loc[2599,'PoolQC'] = 'Fa'"
   ]
  },
  {
   "cell_type": "markdown",
   "metadata": {},
   "source": [
    "# Разберемся с GarageYrBlt"
   ]
  },
  {
   "cell_type": "code",
   "execution_count": 49,
   "metadata": {},
   "outputs": [],
   "source": [
    "mn=(df.GarageYrBlt - df.YearBuilt).mean()\n",
    "df.GarageYrBlt = df.GarageYrBlt.fillna(df.YearBuilt + mn) # Лучше df1.GarageYrBlt.fillna(df1.YearBuilt + mn, inplace = True)"
   ]
  },
  {
   "cell_type": "markdown",
   "metadata": {},
   "source": [
    "# Заполним на Fence и MiscFeature"
   ]
  },
  {
   "cell_type": "code",
   "execution_count": 50,
   "metadata": {},
   "outputs": [],
   "source": [
    "df.Fence.fillna('NA',inplace = True)\n",
    "df.MiscFeature.fillna('NA',inplace = True)"
   ]
  },
  {
   "cell_type": "markdown",
   "metadata": {},
   "source": [
    "# Изучим MasVnrType и MasVnrArea"
   ]
  },
  {
   "cell_type": "code",
   "execution_count": 51,
   "metadata": {},
   "outputs": [],
   "source": [
    "df.loc[2610,'MasVnrType'] = 'BrkCmn'\n",
    "df.MasVnrArea.fillna(0, inplace = True)\n",
    "df.MasVnrType.fillna('None', inplace = True)"
   ]
  },
  {
   "cell_type": "markdown",
   "metadata": {},
   "source": [
    "# Доделаем оставшиеся NaN"
   ]
  },
  {
   "cell_type": "code",
   "execution_count": 52,
   "metadata": {},
   "outputs": [
    {
     "data": {
      "text/plain": [
       "SalePrice    1459\n",
       "dtype: int64"
      ]
     },
     "execution_count": 52,
     "metadata": {},
     "output_type": "execute_result"
    }
   ],
   "source": [
    "arr = df.isnull().sum()[df.isnull().sum()>0].index[:len(df.isnull().sum()[df.isnull().sum()>0])-1]\n",
    "df[arr] = df[arr].interpolate(method='pad') # Аналог fillna()\n",
    "df.isnull().sum()[df.isnull().sum()>0]"
   ]
  },
  {
   "cell_type": "markdown",
   "metadata": {},
   "source": [
    "# Преобразуем Object натуральными числами"
   ]
  },
  {
   "cell_type": "code",
   "execution_count": 53,
   "metadata": {},
   "outputs": [],
   "source": [
    "obj_ind = df.dtypes[df.dtypes=='object'].index\n",
    "obj_ind = obj_ind.delete(-1)\n",
    "for ind in obj_ind :\n",
    "    gr = df.groupby([ind]).mean().SalePrice.copy()\n",
    "    gr.sort_values(inplace = True)\n",
    "    for i in range(0,gr.shape[0]):\n",
    "        gr[i] = int(i)\n",
    "    dics = gr.to_dict() \n",
    "    df[ind] = df[ind].map(dics)\n",
    "    df[ind].astype(int)"
   ]
  },
  {
   "cell_type": "markdown",
   "metadata": {},
   "source": [
    "# Преобразуем переменне"
   ]
  },
  {
   "cell_type": "code",
   "execution_count": 54,
   "metadata": {},
   "outputs": [],
   "source": [
    "df['Roof'] = df.RoofStyle * df.RoofMatl\n",
    "df['Total_Bath'] = df.FullBath + df.HalfBath/2 + df.BsmtFullBath + df.BsmtHalfBath/2\n",
    "df['TotalSF']=df['TotalBsmtSF'] + df['1stFlrSF'] + df['2ndFlrSF'] \n",
    "df['Total_sqr_footage'] = df['BsmtFinSF1'] + df['BsmtFinSF2'] + df['1stFlrSF'] + df['2ndFlrSF']\n",
    "df['Total_porch_sf'] = (df['OpenPorchSF'] + df['3SsnPorch'] + df['EnclosedPorch'] + df['ScreenPorch'] + df['WoodDeckSF'])\n",
    "#df.drop(['RoofStyle','RoofMatl'],axis=1,inplace = True)\n",
    "#df.drop(['FullBath','HalfBath','BsmtFullBath','BsmtHalfBath'],axis=1,inplace = True)\n",
    "#df.drop(['TotalBsmtSF','1stFlrSF','2ndFlrSF'],axis=1,inplace = True)\n",
    "#df.drop(['BsmtFinSF1','BsmtFinSF2'],axis=1,inplace = True)\n",
    "#df.drop(['OpenPorchSF','3SsnPorch','EnclosedPorch','ScreenPorch','WoodDeckSF'],axis=1,inplace = True)\n",
    "\n",
    "df = df.drop(['Utilities', 'Street', 'PoolQC',], axis=1)\n",
    "\n",
    "#df['haspool'] = df['PoolArea'].apply(lambda x: 1 if x > 0 else 0)\n",
    "#df['has2ndfloor'] = df['2ndFlrSF'].apply(lambda x: 1 if x > 0 else 0)\n",
    "#df['hasgarage'] = df['GarageArea'].apply(lambda x: 1 if x > 0 else 0)\n",
    "#df['hasbsmt'] = df['TotalBsmtSF'].apply(lambda x: 1 if x > 0 else 0)\n",
    "#df['hasfireplace'] = df['Fireplaces'].apply(lambda x: 1 if x > 0 else 0)\n",
    "#df = df.drop(['PoolArea', '2ndFlrSF', 'GarageArea','TotalBsmtSF','Fireplaces'], axis=1)"
   ]
  },
  {
   "cell_type": "markdown",
   "metadata": {},
   "source": [
    "# Skewness"
   ]
  },
  {
   "cell_type": "code",
   "execution_count": 55,
   "metadata": {},
   "outputs": [],
   "source": [
    "tt = df.drop(['indic','SalePrice'],axis=1,inplace = False)[df.drop(['indic','SalePrice'],axis=1,inplace = False).columns[abs(df.drop(['SalePrice'],inplace = False,axis = 1).skew())>1]].skew()\n",
    "for t in tt.index:\n",
    "    df[t] = boxcox1p(df[t],boxcox_normmax(df[t]+1))"
   ]
  },
  {
   "cell_type": "markdown",
   "metadata": {},
   "source": [
    "# Целевая переменная"
   ]
  },
  {
   "cell_type": "code",
   "execution_count": 56,
   "metadata": {},
   "outputs": [],
   "source": [
    "mask_SP = df.SalePrice.notna()\n",
    "df.loc[mask_SP, ['SalePrice']] = np.log(df.loc[mask_SP, ['SalePrice']])\n",
    "df[df.SalePrice.notna()].SalePrice = np.log(df[df.SalePrice.notna()].SalePrice)\n",
    "df_train.SalePrice = np.log(df_train.SalePrice)\n",
    "flag = False"
   ]
  },
  {
   "cell_type": "markdown",
   "metadata": {},
   "source": [
    "# Метрика"
   ]
  },
  {
   "cell_type": "code",
   "execution_count": 57,
   "metadata": {},
   "outputs": [],
   "source": [
    "def rmlse(y_true,y_pred):\n",
    "    return np.sqrt(((np.log(y_true) - np.log(y_pred))**2).mean())\n",
    "#RMLSE = make_scorer(root_mean_log_square_error)\n",
    "#MSE = make_scorer(mean_squared_error)\n",
    "#def neg_mse(y_true,y_pred):\n",
    "#    return - mean_squared_error(y_true,y_pred)\n",
    "#NEG_MSE = make_scorer(neg_mse)\n",
    "def rmse(y_true,y_pred):\n",
    "    return np.sqrt(((y_true - y_pred)**2).mean())"
   ]
  },
  {
   "cell_type": "markdown",
   "metadata": {},
   "source": [
    "# Перейдем к фиттингу "
   ]
  },
  {
   "cell_type": "code",
   "execution_count": 58,
   "metadata": {},
   "outputs": [],
   "source": [
    "df_test, df_train = df[df[\"indic\"].eq(\"test\")], df[df[\"indic\"].eq(\"train\")]\n",
    "X = df_train.drop(labels= ['indic','SalePrice'],axis=1,inplace = False)\n",
    "Y = df_train.loc[:,'SalePrice'].values.reshape(-1, 1)\n",
    "X_train, X_test, y_train, y_test = train_test_split(X, Y, test_size=0.33, random_state=42)\n",
    "X_sub = df_test.drop(labels= ['indic','SalePrice'],axis=1,inplace = False)"
   ]
  },
  {
   "cell_type": "markdown",
   "metadata": {},
   "source": [
    "# XGBoost"
   ]
  },
  {
   "cell_type": "code",
   "execution_count": 59,
   "metadata": {},
   "outputs": [
    {
     "name": "stdout",
     "output_type": "stream",
     "text": [
      "Score\n",
      "Train: 0.999894542440993\n",
      "Test:  0.8800769192321833\n",
      "Answr: 0.8821688633168554\n",
      "\n",
      "\n",
      "RMLSE\n",
      "Train: 0.554673815035645\n",
      "Test:  0.5675371225562056\n",
      "Answr: 0.1429056371923106\n"
     ]
    }
   ],
   "source": [
    "xg_simple = xgb.XGBRegressor().fit(X_train,y_train)\n",
    "pred_xg_simple = xg_simple.predict(X_sub)\n",
    "y_prediction_train = xg_simple.predict(X_train)\n",
    "y_prediction_test = xg_simple.predict(X_test)\n",
    "if flag:\n",
    "    print('Score')\n",
    "    print('Train:',xg_simple.score(X_train,y_train))\n",
    "    print('Test: ',xg_simple.score(X_test,y_test))\n",
    "    print('Answr:',xg_simple.score(X_sub,ans_arr))\n",
    "    print('\\n')\n",
    "    print('RMLSE')\n",
    "    print('Train:',rmlse(y_train,y_prediction_train))\n",
    "    print('Test: ',rmlse(y_test,y_prediction_test))\n",
    "    print('Answr:',rmlse(pred_xg_simple,ans_arr))\n",
    "    submission = pd.DataFrame({'Id': Id_answr_Array, 'SalePrice': pred_xg_simple.reshape(1459,)})\n",
    "    submission.to_csv(\"Submissions\\submission_XGBoost_NonParameter.csv\", index=False)\n",
    "else:\n",
    "    print('Score')\n",
    "    print('Train:',xg_simple.score(X_train,y_train))\n",
    "    print('Test: ',xg_simple.score(X_test,y_test))\n",
    "    print('Answr:',xg_simple.score(X_sub,np.log(ans_arr)))\n",
    "    print('\\n')\n",
    "    print('RMLSE')\n",
    "    print('Train:',rmse(y_train,y_prediction_train))\n",
    "    print('Test: ',rmse(y_test,y_prediction_test))\n",
    "    print('Answr:',rmse(pred_xg_simple,np.log(ans_arr)))\n",
    "    submission = pd.DataFrame({'Id': Id_answr_Array, 'SalePrice': np.exp(pred_xg_simple).reshape(1459,)})\n",
    "    submission.to_csv(\"Submissions\\submission_XGBoost_NonParameter.csv\", index=False)"
   ]
  },
  {
   "cell_type": "code",
   "execution_count": 60,
   "metadata": {},
   "outputs": [
    {
     "name": "stdout",
     "output_type": "stream",
     "text": [
      "Score\n",
      "Train: 0.910092797553346\n",
      "Test:  0.8645408529001163\n",
      "Answr: 0.8695168432253199\n",
      "\n",
      "\n",
      "RMLSE\n",
      "Train: 0.530072464150975\n",
      "Test:  0.5443894883395942\n",
      "Answr: 0.15038224177095902\n"
     ]
    }
   ],
   "source": [
    "xg_iparam = xgb.XGBRegressor(reg_lambda = 5.5, subsample=1, colsample_bytree = 0.3, learning_rate = 0.04,\n",
    "                max_depth = 4, n_estimators = 729, alpha = 10).fit(X_train,y_train)\n",
    "pred_xg_iparam = xg_iparam.predict(X_sub)\n",
    "y_prediction_train = xg_iparam.predict(X_train)\n",
    "y_prediction_test = xg_iparam.predict(X_test)\n",
    "if flag:\n",
    "    print('Score')\n",
    "    print('Train:',xg_iparam.score(X_train,y_train))\n",
    "    print('Test: ',xg_iparam.score(X_test,y_test))\n",
    "    print('Answr:',xg_iparam.score(X_sub,ans_arr))\n",
    "    print('\\n')\n",
    "    print('RMLSE')\n",
    "    print('Train:',rmlse(y_train,y_prediction_train))\n",
    "    print('Test: ',rmlse(y_test,y_prediction_test))\n",
    "    print('Answr:',rmlse(pred_xg_iparam,ans_arr))\n",
    "    submission = pd.DataFrame({'Id': Id_answr_Array, 'SalePrice': pred_xg_iparam.reshape(1459,)})\n",
    "    submission.to_csv(\"Submissions\\submission_XGBoost_Internet_Parameters.csv\", index=False)\n",
    "else: \n",
    "    print('Score')\n",
    "    print('Train:',xg_iparam.score(X_train,y_train))\n",
    "    print('Test: ',xg_iparam.score(X_test,y_test))\n",
    "    print('Answr:',xg_iparam.score(X_sub,np.log(ans_arr)))\n",
    "    print('\\n')\n",
    "    print('RMLSE')\n",
    "    print('Train:',rmse(y_train,y_prediction_train))\n",
    "    print('Test: ',rmse(y_test,y_prediction_test))\n",
    "    print('Answr:',rmse(pred_xg_iparam,np.log(ans_arr)))\n",
    "    submission = pd.DataFrame({'Id': Id_answr_Array, 'SalePrice': np.exp(pred_xg_iparam).reshape(1459,)})\n",
    "    submission.to_csv(\"Submissions\\submission_XGBoost_Internet_Parameters.csv\", index=False)"
   ]
  },
  {
   "cell_type": "markdown",
   "metadata": {},
   "source": [
    "# Линейная Регрессия"
   ]
  },
  {
   "cell_type": "code",
   "execution_count": 61,
   "metadata": {},
   "outputs": [
    {
     "name": "stdout",
     "output_type": "stream",
     "text": [
      "Score\n",
      "Train: 0.9161802113435342\n",
      "Test:  0.8996611906288752\n",
      "Answr: 0.9011910799863087\n",
      "\n",
      "\n",
      "RMLSE\n",
      "Train: 0.11360879886807261\n",
      "Test:  0.13077034098482657\n",
      "Answr: 0.5695015208069559\n"
     ]
    }
   ],
   "source": [
    "lin_reg = LinearRegression().fit(X_train,y_train)\n",
    "pred_lin_reg = lin_reg.predict(X_sub)\n",
    "y_prediction_train = lin_reg.predict(X_train)\n",
    "y_prediction_test = lin_reg.predict(X_test)\n",
    "if (len(y_prediction_train[y_prediction_train<=0]) + len(y_prediction_test[y_prediction_test<=0]) + len(pred_lin_reg[pred_lin_reg<=0])) > 0:\n",
    "    print('Есть отрицательные значения в предсказаниях!!!\\n','Оценки RMLSE могуть быть неверными\\n')\n",
    "pred_lin_reg[pred_lin_reg<=0] = 1\n",
    "y_prediction_train[y_prediction_train<=0] = 1\n",
    "y_prediction_test[y_prediction_test<=0] = 1\n",
    "if flag:\n",
    "    print('Score')\n",
    "    print('Train:',lin_reg.score(X_train,y_train))\n",
    "    print('Test: ',lin_reg.score(X_test,y_test))\n",
    "    print('Answr:',lin_reg.score(X_sub,ans_arr))\n",
    "    print('\\n')\n",
    "    print('RMLSE')\n",
    "    print('Train:',rmlse(y_train,y_prediction_train))\n",
    "    print('Test: ',rmlse(y_test,y_prediction_test))\n",
    "    print('Answr:',rmlse(pred_lin_reg,ans_arr))\n",
    "    submission = pd.DataFrame({'Id': Id_answr_Array, 'SalePrice': pred_lin_reg.reshape(1459,)})\n",
    "    submission.to_csv(\"Submissions\\submission_LinearRegression_NonParameter.csv\", index=False)\n",
    "else:\n",
    "    print('Score')\n",
    "    print('Train:',lin_reg.score(X_train,y_train))\n",
    "    print('Test: ',lin_reg.score(X_test,y_test))\n",
    "    print('Answr:',lin_reg.score(X_sub,np.log(ans_arr)))\n",
    "    print('\\n')\n",
    "    print('RMLSE')\n",
    "    print('Train:',rmse(y_train,y_prediction_train))\n",
    "    print('Test: ',rmse(y_test,y_prediction_test))\n",
    "    print('Answr:',rmse(pred_lin_reg,np.log(ans_arr)))\n",
    "    submission = pd.DataFrame({'Id': Id_answr_Array, 'SalePrice': np.exp(pred_lin_reg).reshape(1459,)})\n",
    "    submission.to_csv(\"Submissions\\submission_LinearRegression_NonParameter.csv\", index=False)"
   ]
  },
  {
   "cell_type": "code",
   "execution_count": 62,
   "metadata": {},
   "outputs": [
    {
     "name": "stdout",
     "output_type": "stream",
     "text": [
      "Score\n",
      "Train: 0.9161745845490097\n",
      "Test:  0.8995639935690684\n",
      "Answr: 0.9012470013808684\n",
      "\n",
      "\n",
      "RMLSE\n",
      "Train: 0.5431838206578466\n",
      "Test:  0.5632655887118329\n",
      "Answr: 0.13082612349205622\n"
     ]
    }
   ],
   "source": [
    "lasso =  Lasso(alpha = 1e-6,max_iter = 50000).fit(X_train,y_train)\n",
    "pred_lasso = lasso.predict(X_sub)\n",
    "y_prediction_train = lasso.predict(X_train)\n",
    "y_prediction_test = lasso.predict(X_test)\n",
    "print('Score')\n",
    "print('Train:',lasso.score(X_train,y_train))\n",
    "print('Test: ',lasso.score(X_test,y_test))\n",
    "print('Answr:',lasso.score(X_sub,np.log(ans_arr)))\n",
    "print('\\n')\n",
    "print('RMLSE')\n",
    "print('Train:',rmse(y_train,y_prediction_train))\n",
    "print('Test: ',rmse(y_test,y_prediction_test))\n",
    "print('Answr:',rmse(pred_lasso,np.log(ans_arr)))"
   ]
  },
  {
   "cell_type": "markdown",
   "metadata": {},
   "source": [
    "# Черновик "
   ]
  },
  {
   "cell_type": "code",
   "execution_count": 31,
   "metadata": {},
   "outputs": [],
   "source": [
    "mse = make_scorer(mean_squared_error)\n",
    "import warnings\n",
    "warnings.filterwarnings('ignore')"
   ]
  },
  {
   "cell_type": "code",
   "execution_count": 37,
   "metadata": {},
   "outputs": [
    {
     "data": {
      "text/plain": [
       "{'alpha': 0.000125}"
      ]
     },
     "execution_count": 37,
     "metadata": {},
     "output_type": "execute_result"
    }
   ],
   "source": [
    "parameters = {'alpha':np.linspace(0,0.001,1001)}\n",
    "gcv = GridSearchCV(lasso, parameters)\n",
    "gcv.fit(X, Y)\n",
    "GridSearchCV(estimator=Lasso(max_iter=50000),param_grid=parameters,scoring = mse)\n",
    "gcv.best_params_"
   ]
  },
  {
   "cell_type": "code",
   "execution_count": null,
   "metadata": {},
   "outputs": [],
   "source": [
    "now = datetime.now()\n",
    "current_time = now.strftime(\"%H:%M:%S\")\n",
    "print(\"Start Time =\", current_time)\n",
    "params = {  \n",
    "            'max_depth' :  [4,5,6],\n",
    "            'n_estimators' :  np.linspace(1,1000,101).astype(int),\n",
    "    'colsample_bytree' : np.linspace(0.01,1,51),\n",
    "    'alpha'         : np.linspace(0,20,21),\n",
    "    'learning_rate' : np.linspace(0.01,1,51),\n",
    "    'reg_lambda' : np.linspace(0,20,21),\n",
    "    #'subsample' : np.linspace(0,1,50)\n",
    "        }\n",
    "rcv = RandomizedSearchCV(xgb.XGBRegressor(),param_distributions=params,n_iter=500,scoring = mse,cv=2)\n",
    "search = rcv.fit(X, Y)\n",
    "#RandomizedSearchCV(estimator=xgb.XGBRegressor())\n",
    "print(search.best_params_)\n",
    "now = datetime.now()\n",
    "current_time = now.strftime(\"%H:%M:%S\")\n",
    "print(\"End Time =\", current_time,'\\n')"
   ]
  },
  {
   "cell_type": "code",
   "execution_count": 145,
   "metadata": {},
   "outputs": [
    {
     "name": "stdout",
     "output_type": "stream",
     "text": [
      "Start Time = 00:42:11\n",
      "{'alpha': 0, 'colsample_bytree': 0.1, 'learning_rate': 0.1, 'max_depth': 4, 'n_estimators': 800, 'reg_lambda': 4}\n",
      "End Time = 04:00:30 \n",
      "\n"
     ]
    }
   ],
   "source": [
    "now = datetime.now()\n",
    "current_time = now.strftime(\"%H:%M:%S\")\n",
    "print(\"Start Time =\", current_time)\n",
    "\n",
    "grid_params = {'max_depth' :  [4,5,6],'n_estimators' : [700,750,800,850,900,950,1000],\n",
    "              'colsample_bytree' : [0.05,0.075,0.1,0.125],\n",
    "              'alpha': [5,10,15,20,25,30,35],\n",
    "              'learning_rate' : [0.05,0.075,0.1,0.125],\n",
    "              'reg_lambda' : [0,0.2,0.4,0.6,0.8]}\n",
    "gcv = GridSearchCV(xgb.XGBRegressor(), grid_params)\n",
    "gcv.fit(X, Y)\n",
    "GridSearchCV(estimator=xgb.XGBRegressor(),param_grid=grid_params,scoring = mse,cv=2)\n",
    "print(gcv.best_params_)\n",
    "now = datetime.now()\n",
    "current_time = now.strftime(\"%H:%M:%S\")\n",
    "print(\"End Time =\", current_time,'\\n')"
   ]
  },
  {
   "cell_type": "code",
   "execution_count": 65,
   "metadata": {},
   "outputs": [
    {
     "name": "stdout",
     "output_type": "stream",
     "text": [
      "Score\n",
      "Train: 0.9983309469143217\n",
      "Test:  0.9001483351530029\n",
      "Answr: 0.9013363039769954\n",
      "\n",
      "\n",
      "RMLSE\n",
      "Train: 0.5532376662189767\n",
      "Test:  0.5654079445352246\n",
      "Answr: 0.13076695690929557\n"
     ]
    }
   ],
   "source": [
    "xg_iparam = xgb.XGBRegressor(reg_lambda = 4, colsample_bytree = 0.1, learning_rate = 0.1,\n",
    "                max_depth = 4, n_estimators = 800, alpha = 0).fit(X_train,y_train)\n",
    "pred_xg_iparam = xg_iparam.predict(X_sub)\n",
    "y_prediction_train = xg_iparam.predict(X_train)\n",
    "y_prediction_test = xg_iparam.predict(X_test)\n",
    "if flag:\n",
    "    print('Score')\n",
    "    print('Train:',xg_iparam.score(X_train,y_train))\n",
    "    print('Test: ',xg_iparam.score(X_test,y_test))\n",
    "    print('Answr:',xg_iparam.score(X_sub,ans_arr))\n",
    "    print('\\n')\n",
    "    print('RMLSE')\n",
    "    print('Train:',rmlse(y_train,y_prediction_train))\n",
    "    print('Test: ',rmlse(y_test,y_prediction_test))\n",
    "    print('Answr:',rmlse(pred_xg_iparam,ans_arr))\n",
    "    submission = pd.DataFrame({'Id': Id_answr_Array, 'SalePrice': pred_xg_iparam.reshape(1459,)})\n",
    "    submission.to_csv(\"Submissions\\submission_XGBoost_Internet_Parameters.csv\", index=False)\n",
    "else: \n",
    "    print('Score')\n",
    "    print('Train:',xg_iparam.score(X_train,y_train))\n",
    "    print('Test: ',xg_iparam.score(X_test,y_test))\n",
    "    print('Answr:',xg_iparam.score(X_sub,np.log(ans_arr)))\n",
    "    print('\\n')\n",
    "    print('RMLSE')\n",
    "    print('Train:',rmse(y_train,y_prediction_train))\n",
    "    print('Test: ',rmse(y_test,y_prediction_test))\n",
    "    print('Answr:',rmse(pred_xg_iparam,np.log(ans_arr)))\n",
    "    submission = pd.DataFrame({'Id': Id_answr_Array, 'SalePrice': np.exp(pred_xg_iparam).reshape(1459,)})\n",
    "    submission.to_csv(\"Submissions\\submission_XGBoost_Internet_Parameters.csv\", index=False)"
   ]
  },
  {
   "cell_type": "code",
   "execution_count": 66,
   "metadata": {},
   "outputs": [
    {
     "name": "stdout",
     "output_type": "stream",
     "text": [
      "0.12371085903264044\n"
     ]
    }
   ],
   "source": [
    "preds_blend = pred_xg_iparam*0.5+pred_lasso*0.5\n",
    "print(rmse(preds_blend,np.log(ans_arr)))\n",
    "submission = pd.DataFrame({'Id': Id_answr_Array, 'SalePrice': np.exp(preds_blend).reshape(1459,)})\n",
    "submission.to_csv(\"Submissions\\submission_Blender.csv\", index=False)"
   ]
  },
  {
   "cell_type": "code",
   "execution_count": 25,
   "metadata": {},
   "outputs": [
    {
     "data": {
      "text/html": [
       "<div>\n",
       "<style scoped>\n",
       "    .dataframe tbody tr th:only-of-type {\n",
       "        vertical-align: middle;\n",
       "    }\n",
       "\n",
       "    .dataframe tbody tr th {\n",
       "        vertical-align: top;\n",
       "    }\n",
       "\n",
       "    .dataframe thead th {\n",
       "        text-align: right;\n",
       "    }\n",
       "</style>\n",
       "<table border=\"1\" class=\"dataframe\">\n",
       "  <thead>\n",
       "    <tr style=\"text-align: right;\">\n",
       "      <th></th>\n",
       "      <th>MSSubClass</th>\n",
       "      <th>MSZoning</th>\n",
       "      <th>LotFrontage</th>\n",
       "      <th>LotArea</th>\n",
       "      <th>Street</th>\n",
       "      <th>Alley</th>\n",
       "      <th>LotShape</th>\n",
       "      <th>LandContour</th>\n",
       "      <th>Utilities</th>\n",
       "      <th>LotConfig</th>\n",
       "      <th>LandSlope</th>\n",
       "      <th>Neighborhood</th>\n",
       "      <th>Condition1</th>\n",
       "      <th>Condition2</th>\n",
       "      <th>BldgType</th>\n",
       "      <th>HouseStyle</th>\n",
       "      <th>OverallQual</th>\n",
       "      <th>OverallCond</th>\n",
       "      <th>YearBuilt</th>\n",
       "      <th>YearRemodAdd</th>\n",
       "      <th>RoofStyle</th>\n",
       "      <th>RoofMatl</th>\n",
       "      <th>Exterior1st</th>\n",
       "      <th>Exterior2nd</th>\n",
       "      <th>MasVnrType</th>\n",
       "      <th>MasVnrArea</th>\n",
       "      <th>ExterQual</th>\n",
       "      <th>ExterCond</th>\n",
       "      <th>Foundation</th>\n",
       "      <th>BsmtQual</th>\n",
       "      <th>BsmtCond</th>\n",
       "      <th>BsmtExposure</th>\n",
       "      <th>BsmtFinType1</th>\n",
       "      <th>BsmtFinSF1</th>\n",
       "      <th>BsmtFinType2</th>\n",
       "      <th>BsmtFinSF2</th>\n",
       "      <th>BsmtUnfSF</th>\n",
       "      <th>TotalBsmtSF</th>\n",
       "      <th>Heating</th>\n",
       "      <th>HeatingQC</th>\n",
       "      <th>CentralAir</th>\n",
       "      <th>Electrical</th>\n",
       "      <th>1stFlrSF</th>\n",
       "      <th>2ndFlrSF</th>\n",
       "      <th>LowQualFinSF</th>\n",
       "      <th>GrLivArea</th>\n",
       "      <th>BsmtFullBath</th>\n",
       "      <th>BsmtHalfBath</th>\n",
       "      <th>FullBath</th>\n",
       "      <th>HalfBath</th>\n",
       "      <th>BedroomAbvGr</th>\n",
       "      <th>KitchenAbvGr</th>\n",
       "      <th>KitchenQual</th>\n",
       "      <th>TotRmsAbvGrd</th>\n",
       "      <th>Functional</th>\n",
       "      <th>Fireplaces</th>\n",
       "      <th>FireplaceQu</th>\n",
       "      <th>GarageType</th>\n",
       "      <th>GarageYrBlt</th>\n",
       "      <th>GarageFinish</th>\n",
       "      <th>GarageCars</th>\n",
       "      <th>GarageArea</th>\n",
       "      <th>GarageQual</th>\n",
       "      <th>GarageCond</th>\n",
       "      <th>PavedDrive</th>\n",
       "      <th>WoodDeckSF</th>\n",
       "      <th>OpenPorchSF</th>\n",
       "      <th>EnclosedPorch</th>\n",
       "      <th>3SsnPorch</th>\n",
       "      <th>ScreenPorch</th>\n",
       "      <th>PoolArea</th>\n",
       "      <th>PoolQC</th>\n",
       "      <th>Fence</th>\n",
       "      <th>MiscFeature</th>\n",
       "      <th>MiscVal</th>\n",
       "      <th>MoSold</th>\n",
       "      <th>YrSold</th>\n",
       "      <th>SaleType</th>\n",
       "      <th>SaleCondition</th>\n",
       "      <th>indic</th>\n",
       "      <th>SalePrice</th>\n",
       "    </tr>\n",
       "  </thead>\n",
       "  <tbody>\n",
       "    <tr>\n",
       "      <th>0</th>\n",
       "      <td>6.502440</td>\n",
       "      <td>19.611113</td>\n",
       "      <td>13.318189</td>\n",
       "      <td>13.424521</td>\n",
       "      <td>11.459793</td>\n",
       "      <td>12.012112</td>\n",
       "      <td>0.000000</td>\n",
       "      <td>0.711828</td>\n",
       "      <td>41.795425</td>\n",
       "      <td>0.000000</td>\n",
       "      <td>0.0</td>\n",
       "      <td>16.0</td>\n",
       "      <td>4.901026</td>\n",
       "      <td>5.330072</td>\n",
       "      <td>142.010156</td>\n",
       "      <td>466.377437</td>\n",
       "      <td>7</td>\n",
       "      <td>5</td>\n",
       "      <td>2003</td>\n",
       "      <td>2003</td>\n",
       "      <td>0.541899</td>\n",
       "      <td>1.023583</td>\n",
       "      <td>11.0</td>\n",
       "      <td>12.0</td>\n",
       "      <td>2.0</td>\n",
       "      <td>19.378557</td>\n",
       "      <td>2.0</td>\n",
       "      <td>18.850213</td>\n",
       "      <td>5.0</td>\n",
       "      <td>3.0</td>\n",
       "      <td>11.627298</td>\n",
       "      <td>0.659828</td>\n",
       "      <td>6.0</td>\n",
       "      <td>117.625234</td>\n",
       "      <td>951.058101</td>\n",
       "      <td>0.0</td>\n",
       "      <td>150.0</td>\n",
       "      <td>294.084912</td>\n",
       "      <td>1.877499e+06</td>\n",
       "      <td>4.0</td>\n",
       "      <td>49.39966</td>\n",
       "      <td>259.35281</td>\n",
       "      <td>5.318378</td>\n",
       "      <td>854</td>\n",
       "      <td>0.0</td>\n",
       "      <td>7.234115</td>\n",
       "      <td>1.0</td>\n",
       "      <td>0.00000</td>\n",
       "      <td>2</td>\n",
       "      <td>1</td>\n",
       "      <td>3</td>\n",
       "      <td>0.75096</td>\n",
       "      <td>2.0</td>\n",
       "      <td>8</td>\n",
       "      <td>251740.88363</td>\n",
       "      <td>0</td>\n",
       "      <td>1.0</td>\n",
       "      <td>5.0</td>\n",
       "      <td>2003.0</td>\n",
       "      <td>2.0</td>\n",
       "      <td>2.0</td>\n",
       "      <td>548.0</td>\n",
       "      <td>11.872587</td>\n",
       "      <td>31.075909</td>\n",
       "      <td>10.4658</td>\n",
       "      <td>0.000000</td>\n",
       "      <td>12.009560</td>\n",
       "      <td>0.000000</td>\n",
       "      <td>0.0</td>\n",
       "      <td>0.0</td>\n",
       "      <td>0.0</td>\n",
       "      <td>0.0</td>\n",
       "      <td>8.425594</td>\n",
       "      <td>46.697731</td>\n",
       "      <td>0.0</td>\n",
       "      <td>2</td>\n",
       "      <td>2008</td>\n",
       "      <td>2.153401</td>\n",
       "      <td>85.375015</td>\n",
       "      <td>train</td>\n",
       "      <td>12.247694</td>\n",
       "    </tr>\n",
       "    <tr>\n",
       "      <th>1</th>\n",
       "      <td>4.250991</td>\n",
       "      <td>19.611113</td>\n",
       "      <td>14.895682</td>\n",
       "      <td>13.694528</td>\n",
       "      <td>11.459793</td>\n",
       "      <td>12.012112</td>\n",
       "      <td>0.000000</td>\n",
       "      <td>0.711828</td>\n",
       "      <td>41.795425</td>\n",
       "      <td>0.756051</td>\n",
       "      <td>0.0</td>\n",
       "      <td>20.0</td>\n",
       "      <td>2.276711</td>\n",
       "      <td>5.330072</td>\n",
       "      <td>142.010156</td>\n",
       "      <td>257.467291</td>\n",
       "      <td>6</td>\n",
       "      <td>8</td>\n",
       "      <td>1976</td>\n",
       "      <td>1976</td>\n",
       "      <td>0.541899</td>\n",
       "      <td>1.023583</td>\n",
       "      <td>4.0</td>\n",
       "      <td>5.0</td>\n",
       "      <td>1.0</td>\n",
       "      <td>0.000000</td>\n",
       "      <td>1.0</td>\n",
       "      <td>18.850213</td>\n",
       "      <td>2.0</td>\n",
       "      <td>3.0</td>\n",
       "      <td>11.627298</td>\n",
       "      <td>1.437294</td>\n",
       "      <td>4.0</td>\n",
       "      <td>146.501095</td>\n",
       "      <td>951.058101</td>\n",
       "      <td>0.0</td>\n",
       "      <td>284.0</td>\n",
       "      <td>403.274763</td>\n",
       "      <td>1.877499e+06</td>\n",
       "      <td>4.0</td>\n",
       "      <td>49.39966</td>\n",
       "      <td>259.35281</td>\n",
       "      <td>5.550626</td>\n",
       "      <td>0</td>\n",
       "      <td>0.0</td>\n",
       "      <td>6.947211</td>\n",
       "      <td>0.0</td>\n",
       "      <td>0.71081</td>\n",
       "      <td>2</td>\n",
       "      <td>0</td>\n",
       "      <td>3</td>\n",
       "      <td>0.75096</td>\n",
       "      <td>1.0</td>\n",
       "      <td>6</td>\n",
       "      <td>251740.88363</td>\n",
       "      <td>1</td>\n",
       "      <td>3.0</td>\n",
       "      <td>5.0</td>\n",
       "      <td>1976.0</td>\n",
       "      <td>2.0</td>\n",
       "      <td>2.0</td>\n",
       "      <td>460.0</td>\n",
       "      <td>11.872587</td>\n",
       "      <td>31.075909</td>\n",
       "      <td>10.4658</td>\n",
       "      <td>56.339208</td>\n",
       "      <td>0.000000</td>\n",
       "      <td>0.000000</td>\n",
       "      <td>0.0</td>\n",
       "      <td>0.0</td>\n",
       "      <td>0.0</td>\n",
       "      <td>0.0</td>\n",
       "      <td>8.425594</td>\n",
       "      <td>46.697731</td>\n",
       "      <td>0.0</td>\n",
       "      <td>5</td>\n",
       "      <td>2007</td>\n",
       "      <td>2.153401</td>\n",
       "      <td>85.375015</td>\n",
       "      <td>train</td>\n",
       "      <td>12.109011</td>\n",
       "    </tr>\n",
       "    <tr>\n",
       "      <th>2</th>\n",
       "      <td>6.502440</td>\n",
       "      <td>19.611113</td>\n",
       "      <td>13.647660</td>\n",
       "      <td>14.034134</td>\n",
       "      <td>11.459793</td>\n",
       "      <td>12.012112</td>\n",
       "      <td>0.670805</td>\n",
       "      <td>0.711828</td>\n",
       "      <td>41.795425</td>\n",
       "      <td>0.000000</td>\n",
       "      <td>0.0</td>\n",
       "      <td>16.0</td>\n",
       "      <td>4.901026</td>\n",
       "      <td>5.330072</td>\n",
       "      <td>142.010156</td>\n",
       "      <td>466.377437</td>\n",
       "      <td>7</td>\n",
       "      <td>5</td>\n",
       "      <td>2001</td>\n",
       "      <td>2002</td>\n",
       "      <td>0.541899</td>\n",
       "      <td>1.023583</td>\n",
       "      <td>11.0</td>\n",
       "      <td>12.0</td>\n",
       "      <td>2.0</td>\n",
       "      <td>17.721068</td>\n",
       "      <td>2.0</td>\n",
       "      <td>18.850213</td>\n",
       "      <td>5.0</td>\n",
       "      <td>3.0</td>\n",
       "      <td>11.627298</td>\n",
       "      <td>1.016484</td>\n",
       "      <td>6.0</td>\n",
       "      <td>91.408432</td>\n",
       "      <td>951.058101</td>\n",
       "      <td>0.0</td>\n",
       "      <td>434.0</td>\n",
       "      <td>311.854347</td>\n",
       "      <td>1.877499e+06</td>\n",
       "      <td>4.0</td>\n",
       "      <td>49.39966</td>\n",
       "      <td>259.35281</td>\n",
       "      <td>5.362015</td>\n",
       "      <td>866</td>\n",
       "      <td>0.0</td>\n",
       "      <td>7.275131</td>\n",
       "      <td>1.0</td>\n",
       "      <td>0.00000</td>\n",
       "      <td>2</td>\n",
       "      <td>1</td>\n",
       "      <td>3</td>\n",
       "      <td>0.75096</td>\n",
       "      <td>2.0</td>\n",
       "      <td>6</td>\n",
       "      <td>251740.88363</td>\n",
       "      <td>1</td>\n",
       "      <td>3.0</td>\n",
       "      <td>5.0</td>\n",
       "      <td>2001.0</td>\n",
       "      <td>2.0</td>\n",
       "      <td>2.0</td>\n",
       "      <td>608.0</td>\n",
       "      <td>11.872587</td>\n",
       "      <td>31.075909</td>\n",
       "      <td>10.4658</td>\n",
       "      <td>0.000000</td>\n",
       "      <td>9.849186</td>\n",
       "      <td>0.000000</td>\n",
       "      <td>0.0</td>\n",
       "      <td>0.0</td>\n",
       "      <td>0.0</td>\n",
       "      <td>0.0</td>\n",
       "      <td>8.425594</td>\n",
       "      <td>46.697731</td>\n",
       "      <td>0.0</td>\n",
       "      <td>9</td>\n",
       "      <td>2008</td>\n",
       "      <td>2.153401</td>\n",
       "      <td>85.375015</td>\n",
       "      <td>train</td>\n",
       "      <td>12.317167</td>\n",
       "    </tr>\n",
       "    <tr>\n",
       "      <th>3</th>\n",
       "      <td>6.865584</td>\n",
       "      <td>19.611113</td>\n",
       "      <td>12.751116</td>\n",
       "      <td>13.683422</td>\n",
       "      <td>11.459793</td>\n",
       "      <td>12.012112</td>\n",
       "      <td>0.670805</td>\n",
       "      <td>0.711828</td>\n",
       "      <td>41.795425</td>\n",
       "      <td>1.262204</td>\n",
       "      <td>0.0</td>\n",
       "      <td>17.0</td>\n",
       "      <td>4.901026</td>\n",
       "      <td>5.330072</td>\n",
       "      <td>142.010156</td>\n",
       "      <td>466.377437</td>\n",
       "      <td>7</td>\n",
       "      <td>5</td>\n",
       "      <td>1915</td>\n",
       "      <td>1970</td>\n",
       "      <td>0.541899</td>\n",
       "      <td>1.023583</td>\n",
       "      <td>5.0</td>\n",
       "      <td>8.0</td>\n",
       "      <td>1.0</td>\n",
       "      <td>0.000000</td>\n",
       "      <td>1.0</td>\n",
       "      <td>18.850213</td>\n",
       "      <td>1.0</td>\n",
       "      <td>2.0</td>\n",
       "      <td>20.326843</td>\n",
       "      <td>0.659828</td>\n",
       "      <td>4.0</td>\n",
       "      <td>52.695388</td>\n",
       "      <td>951.058101</td>\n",
       "      <td>0.0</td>\n",
       "      <td>540.0</td>\n",
       "      <td>265.805738</td>\n",
       "      <td>1.877499e+06</td>\n",
       "      <td>3.0</td>\n",
       "      <td>49.39966</td>\n",
       "      <td>259.35281</td>\n",
       "      <td>5.388291</td>\n",
       "      <td>756</td>\n",
       "      <td>0.0</td>\n",
       "      <td>7.237969</td>\n",
       "      <td>1.0</td>\n",
       "      <td>0.00000</td>\n",
       "      <td>1</td>\n",
       "      <td>0</td>\n",
       "      <td>3</td>\n",
       "      <td>0.75096</td>\n",
       "      <td>2.0</td>\n",
       "      <td>7</td>\n",
       "      <td>251740.88363</td>\n",
       "      <td>1</td>\n",
       "      <td>4.0</td>\n",
       "      <td>2.0</td>\n",
       "      <td>1998.0</td>\n",
       "      <td>1.0</td>\n",
       "      <td>3.0</td>\n",
       "      <td>642.0</td>\n",
       "      <td>11.872587</td>\n",
       "      <td>31.075909</td>\n",
       "      <td>10.4658</td>\n",
       "      <td>0.000000</td>\n",
       "      <td>8.921747</td>\n",
       "      <td>16.012024</td>\n",
       "      <td>0.0</td>\n",
       "      <td>0.0</td>\n",
       "      <td>0.0</td>\n",
       "      <td>0.0</td>\n",
       "      <td>8.425594</td>\n",
       "      <td>46.697731</td>\n",
       "      <td>0.0</td>\n",
       "      <td>2</td>\n",
       "      <td>2006</td>\n",
       "      <td>2.153401</td>\n",
       "      <td>3.021760</td>\n",
       "      <td>train</td>\n",
       "      <td>11.849398</td>\n",
       "    </tr>\n",
       "    <tr>\n",
       "      <th>4</th>\n",
       "      <td>6.502440</td>\n",
       "      <td>19.611113</td>\n",
       "      <td>15.289848</td>\n",
       "      <td>14.550143</td>\n",
       "      <td>11.459793</td>\n",
       "      <td>12.012112</td>\n",
       "      <td>0.670805</td>\n",
       "      <td>0.711828</td>\n",
       "      <td>41.795425</td>\n",
       "      <td>0.756051</td>\n",
       "      <td>0.0</td>\n",
       "      <td>24.0</td>\n",
       "      <td>4.901026</td>\n",
       "      <td>5.330072</td>\n",
       "      <td>142.010156</td>\n",
       "      <td>466.377437</td>\n",
       "      <td>8</td>\n",
       "      <td>5</td>\n",
       "      <td>2000</td>\n",
       "      <td>2000</td>\n",
       "      <td>0.541899</td>\n",
       "      <td>1.023583</td>\n",
       "      <td>11.0</td>\n",
       "      <td>12.0</td>\n",
       "      <td>2.0</td>\n",
       "      <td>25.323125</td>\n",
       "      <td>2.0</td>\n",
       "      <td>18.850213</td>\n",
       "      <td>5.0</td>\n",
       "      <td>3.0</td>\n",
       "      <td>11.627298</td>\n",
       "      <td>1.257256</td>\n",
       "      <td>6.0</td>\n",
       "      <td>111.824121</td>\n",
       "      <td>951.058101</td>\n",
       "      <td>0.0</td>\n",
       "      <td>490.0</td>\n",
       "      <td>372.598448</td>\n",
       "      <td>1.877499e+06</td>\n",
       "      <td>4.0</td>\n",
       "      <td>49.39966</td>\n",
       "      <td>259.35281</td>\n",
       "      <td>5.493031</td>\n",
       "      <td>1053</td>\n",
       "      <td>0.0</td>\n",
       "      <td>7.470740</td>\n",
       "      <td>1.0</td>\n",
       "      <td>0.00000</td>\n",
       "      <td>2</td>\n",
       "      <td>1</td>\n",
       "      <td>4</td>\n",
       "      <td>0.75096</td>\n",
       "      <td>2.0</td>\n",
       "      <td>9</td>\n",
       "      <td>251740.88363</td>\n",
       "      <td>1</td>\n",
       "      <td>3.0</td>\n",
       "      <td>5.0</td>\n",
       "      <td>2000.0</td>\n",
       "      <td>2.0</td>\n",
       "      <td>3.0</td>\n",
       "      <td>836.0</td>\n",
       "      <td>11.872587</td>\n",
       "      <td>31.075909</td>\n",
       "      <td>10.4658</td>\n",
       "      <td>42.351292</td>\n",
       "      <td>14.180239</td>\n",
       "      <td>0.000000</td>\n",
       "      <td>0.0</td>\n",
       "      <td>0.0</td>\n",
       "      <td>0.0</td>\n",
       "      <td>0.0</td>\n",
       "      <td>8.425594</td>\n",
       "      <td>46.697731</td>\n",
       "      <td>0.0</td>\n",
       "      <td>12</td>\n",
       "      <td>2008</td>\n",
       "      <td>2.153401</td>\n",
       "      <td>85.375015</td>\n",
       "      <td>train</td>\n",
       "      <td>12.429216</td>\n",
       "    </tr>\n",
       "  </tbody>\n",
       "</table>\n",
       "</div>"
      ],
      "text/plain": [
       "   MSSubClass   MSZoning  LotFrontage    LotArea     Street      Alley  \\\n",
       "0    6.502440  19.611113    13.318189  13.424521  11.459793  12.012112   \n",
       "1    4.250991  19.611113    14.895682  13.694528  11.459793  12.012112   \n",
       "2    6.502440  19.611113    13.647660  14.034134  11.459793  12.012112   \n",
       "3    6.865584  19.611113    12.751116  13.683422  11.459793  12.012112   \n",
       "4    6.502440  19.611113    15.289848  14.550143  11.459793  12.012112   \n",
       "\n",
       "   LotShape  LandContour  Utilities  LotConfig  LandSlope  Neighborhood  \\\n",
       "0  0.000000     0.711828  41.795425   0.000000        0.0          16.0   \n",
       "1  0.000000     0.711828  41.795425   0.756051        0.0          20.0   \n",
       "2  0.670805     0.711828  41.795425   0.000000        0.0          16.0   \n",
       "3  0.670805     0.711828  41.795425   1.262204        0.0          17.0   \n",
       "4  0.670805     0.711828  41.795425   0.756051        0.0          24.0   \n",
       "\n",
       "   Condition1  Condition2    BldgType  HouseStyle  OverallQual  OverallCond  \\\n",
       "0    4.901026    5.330072  142.010156  466.377437            7            5   \n",
       "1    2.276711    5.330072  142.010156  257.467291            6            8   \n",
       "2    4.901026    5.330072  142.010156  466.377437            7            5   \n",
       "3    4.901026    5.330072  142.010156  466.377437            7            5   \n",
       "4    4.901026    5.330072  142.010156  466.377437            8            5   \n",
       "\n",
       "   YearBuilt  YearRemodAdd  RoofStyle  RoofMatl  Exterior1st  Exterior2nd  \\\n",
       "0       2003          2003   0.541899  1.023583         11.0         12.0   \n",
       "1       1976          1976   0.541899  1.023583          4.0          5.0   \n",
       "2       2001          2002   0.541899  1.023583         11.0         12.0   \n",
       "3       1915          1970   0.541899  1.023583          5.0          8.0   \n",
       "4       2000          2000   0.541899  1.023583         11.0         12.0   \n",
       "\n",
       "   MasVnrType  MasVnrArea  ExterQual  ExterCond  Foundation  BsmtQual  \\\n",
       "0         2.0   19.378557        2.0  18.850213         5.0       3.0   \n",
       "1         1.0    0.000000        1.0  18.850213         2.0       3.0   \n",
       "2         2.0   17.721068        2.0  18.850213         5.0       3.0   \n",
       "3         1.0    0.000000        1.0  18.850213         1.0       2.0   \n",
       "4         2.0   25.323125        2.0  18.850213         5.0       3.0   \n",
       "\n",
       "    BsmtCond  BsmtExposure  BsmtFinType1  BsmtFinSF1  BsmtFinType2  \\\n",
       "0  11.627298      0.659828           6.0  117.625234    951.058101   \n",
       "1  11.627298      1.437294           4.0  146.501095    951.058101   \n",
       "2  11.627298      1.016484           6.0   91.408432    951.058101   \n",
       "3  20.326843      0.659828           4.0   52.695388    951.058101   \n",
       "4  11.627298      1.257256           6.0  111.824121    951.058101   \n",
       "\n",
       "   BsmtFinSF2  BsmtUnfSF  TotalBsmtSF       Heating  HeatingQC  CentralAir  \\\n",
       "0         0.0      150.0   294.084912  1.877499e+06        4.0    49.39966   \n",
       "1         0.0      284.0   403.274763  1.877499e+06        4.0    49.39966   \n",
       "2         0.0      434.0   311.854347  1.877499e+06        4.0    49.39966   \n",
       "3         0.0      540.0   265.805738  1.877499e+06        3.0    49.39966   \n",
       "4         0.0      490.0   372.598448  1.877499e+06        4.0    49.39966   \n",
       "\n",
       "   Electrical  1stFlrSF  2ndFlrSF  LowQualFinSF  GrLivArea  BsmtFullBath  \\\n",
       "0   259.35281  5.318378       854           0.0   7.234115           1.0   \n",
       "1   259.35281  5.550626         0           0.0   6.947211           0.0   \n",
       "2   259.35281  5.362015       866           0.0   7.275131           1.0   \n",
       "3   259.35281  5.388291       756           0.0   7.237969           1.0   \n",
       "4   259.35281  5.493031      1053           0.0   7.470740           1.0   \n",
       "\n",
       "   BsmtHalfBath  FullBath  HalfBath  BedroomAbvGr  KitchenAbvGr  KitchenQual  \\\n",
       "0       0.00000         2         1             3       0.75096          2.0   \n",
       "1       0.71081         2         0             3       0.75096          1.0   \n",
       "2       0.00000         2         1             3       0.75096          2.0   \n",
       "3       0.00000         1         0             3       0.75096          2.0   \n",
       "4       0.00000         2         1             4       0.75096          2.0   \n",
       "\n",
       "   TotRmsAbvGrd    Functional  Fireplaces  FireplaceQu  GarageType  \\\n",
       "0             8  251740.88363           0          1.0         5.0   \n",
       "1             6  251740.88363           1          3.0         5.0   \n",
       "2             6  251740.88363           1          3.0         5.0   \n",
       "3             7  251740.88363           1          4.0         2.0   \n",
       "4             9  251740.88363           1          3.0         5.0   \n",
       "\n",
       "   GarageYrBlt  GarageFinish  GarageCars  GarageArea  GarageQual  GarageCond  \\\n",
       "0       2003.0           2.0         2.0       548.0   11.872587   31.075909   \n",
       "1       1976.0           2.0         2.0       460.0   11.872587   31.075909   \n",
       "2       2001.0           2.0         2.0       608.0   11.872587   31.075909   \n",
       "3       1998.0           1.0         3.0       642.0   11.872587   31.075909   \n",
       "4       2000.0           2.0         3.0       836.0   11.872587   31.075909   \n",
       "\n",
       "   PavedDrive  WoodDeckSF  OpenPorchSF  EnclosedPorch  3SsnPorch  ScreenPorch  \\\n",
       "0     10.4658    0.000000    12.009560       0.000000        0.0          0.0   \n",
       "1     10.4658   56.339208     0.000000       0.000000        0.0          0.0   \n",
       "2     10.4658    0.000000     9.849186       0.000000        0.0          0.0   \n",
       "3     10.4658    0.000000     8.921747      16.012024        0.0          0.0   \n",
       "4     10.4658   42.351292    14.180239       0.000000        0.0          0.0   \n",
       "\n",
       "   PoolArea  PoolQC     Fence  MiscFeature  MiscVal  MoSold  YrSold  SaleType  \\\n",
       "0       0.0     0.0  8.425594    46.697731      0.0       2    2008  2.153401   \n",
       "1       0.0     0.0  8.425594    46.697731      0.0       5    2007  2.153401   \n",
       "2       0.0     0.0  8.425594    46.697731      0.0       9    2008  2.153401   \n",
       "3       0.0     0.0  8.425594    46.697731      0.0       2    2006  2.153401   \n",
       "4       0.0     0.0  8.425594    46.697731      0.0      12    2008  2.153401   \n",
       "\n",
       "   SaleCondition  indic  SalePrice  \n",
       "0      85.375015  train  12.247694  \n",
       "1      85.375015  train  12.109011  \n",
       "2      85.375015  train  12.317167  \n",
       "3       3.021760  train  11.849398  \n",
       "4      85.375015  train  12.429216  "
      ]
     },
     "execution_count": 25,
     "metadata": {},
     "output_type": "execute_result"
    }
   ],
   "source": [
    "df.head()"
   ]
  },
  {
   "cell_type": "code",
   "execution_count": 44,
   "metadata": {},
   "outputs": [],
   "source": [
    "transformer = RobustScaler().fit_transform(df.LotArea.values.reshape(-1, 1))"
   ]
  },
  {
   "cell_type": "code",
   "execution_count": 54,
   "metadata": {},
   "outputs": [
    {
     "data": {
      "text/plain": [
       "array([[-0.12527156],\n",
       "       [ 0.12706988],\n",
       "       [ 0.44445737],\n",
       "       ...,\n",
       "       [ 1.63128131],\n",
       "       [ 0.29460148],\n",
       "       [ 0.13265411]])"
      ]
     },
     "execution_count": 54,
     "metadata": {},
     "output_type": "execute_result"
    }
   ],
   "source": [
    "np.sort((transformer - transformer.mean())/transformer.std())"
   ]
  },
  {
   "cell_type": "code",
   "execution_count": 70,
   "metadata": {},
   "outputs": [
    {
     "data": {
      "text/plain": [
       "1"
      ]
     },
     "execution_count": 70,
     "metadata": {},
     "output_type": "execute_result"
    }
   ],
   "source": [
    "(abs((df.LotArea - df.LotArea.mean())/df.LotArea.std())>7).sum()"
   ]
  },
  {
   "cell_type": "code",
   "execution_count": 82,
   "metadata": {},
   "outputs": [
    {
     "name": "stdout",
     "output_type": "stream",
     "text": [
      "LotFrontage :  18\n",
      "LotArea :  63\n",
      "Street :  12\n",
      "Alley :  198\n",
      "LandContour :  237\n",
      "Utilities :  1\n",
      "LandSlope :  141\n",
      "Condition1 :  151\n",
      "Condition2 :  30\n",
      "HouseStyle :  8\n",
      "OverallQual :  4\n",
      "OverallCond :  58\n",
      "YearBuilt :  8\n",
      "RoofStyle :  22\n",
      "RoofMatl :  43\n",
      "MasVnrArea :  14\n",
      "ExterCond :  82\n",
      "BsmtQual :  79\n",
      "BsmtCond :  206\n",
      "BsmtFinSF1 :  2\n",
      "BsmtFinType2 :  52\n",
      "BsmtFinSF2 :  114\n",
      "BsmtUnfSF :  16\n",
      "TotalBsmtSF :  13\n",
      "Heating :  45\n",
      "HeatingQC :  3\n",
      "CentralAir :  196\n",
      "Electrical :  59\n",
      "1stFlrSF :  8\n",
      "2ndFlrSF :  10\n",
      "LowQualFinSF :  40\n",
      "GrLivArea :  13\n",
      "BsmtFullBath :  2\n",
      "BsmtHalfBath :  175\n",
      "FullBath :  4\n",
      "HalfBath :  25\n",
      "BedroomAbvGr :  30\n",
      "KitchenAbvGr :  134\n",
      "TotRmsAbvGrd :  19\n",
      "Functional :  165\n",
      "Fireplaces :  12\n",
      "GarageYrBlt :  7\n",
      "GarageCars :  1\n",
      "GarageArea :  17\n",
      "GarageQual :  190\n",
      "GarageCond :  172\n",
      "PavedDrive :  216\n",
      "WoodDeckSF :  14\n",
      "OpenPorchSF :  9\n",
      "EnclosedPorch :  43\n",
      "3SsnPorch :  37\n",
      "ScreenPorch :  145\n",
      "PoolArea :  13\n",
      "PoolQC :  13\n",
      "Fence :  12\n",
      "MiscFeature :  105\n",
      "MiscVal :  102\n",
      "SaleType :  33\n",
      "SalePrice :  12\n"
     ]
    }
   ],
   "source": [
    "for ind in df.drop('indic',axis=1).columns:\n",
    "    number = (abs((df[ind] - df[ind].mean())/df[ind].std())>3).sum()\n",
    "    if number > 0:\n",
    "        print(ind,': ',number)"
   ]
  },
  {
   "cell_type": "code",
   "execution_count": 26,
   "metadata": {},
   "outputs": [
    {
     "name": "stdout",
     "output_type": "stream",
     "text": [
      "Score\n",
      "Train: 0.9128310599922996\n",
      "Test:  0.8951044000473967\n",
      "Answr: 0.896490905882851\n",
      "\n",
      "\n",
      "RMLSE\n",
      "Train: 0.542718509307058\n",
      "Test:  0.5622201353423856\n",
      "Answr: 0.13393947151411087\n"
     ]
    }
   ],
   "source": [
    "lasso =  Lasso(alpha = 1e-6).fit(X_train,y_train)\n",
    "pred_lasso = lasso.predict(X_sub)\n",
    "y_prediction_train = lasso.predict(X_train)\n",
    "y_prediction_test = lasso.predict(X_test)\n",
    "print('Score')\n",
    "print('Train:',lasso.score(X_train,y_train))\n",
    "print('Test: ',lasso.score(X_test,y_test))\n",
    "print('Answr:',lasso.score(X_sub,np.log(ans_arr)))\n",
    "print('\\n')\n",
    "print('RMLSE')\n",
    "print('Train:',rmse(y_train,y_prediction_train))\n",
    "print('Test: ',rmse(y_test,y_prediction_test))\n",
    "print('Answr:',rmse(pred_lasso,np.log(ans_arr)))"
   ]
  },
  {
   "cell_type": "code",
   "execution_count": 25,
   "metadata": {},
   "outputs": [
    {
     "name": "stdout",
     "output_type": "stream",
     "text": [
      "Score\n",
      "Train: 0.921382250991374\n",
      "Test:  0.8982029999962489\n",
      "Answr: 0.7980180565099715\n",
      "\n",
      "\n",
      "RMLSE\n",
      "Train: 0.5438712244284554\n",
      "Test:  0.5641117161434824\n",
      "Answr: 0.18710078105400063\n"
     ]
    }
   ],
   "source": [
    "lasso =  Lasso(alpha = 5e-06,max_iter = 100000).fit(X_train,y_train)\n",
    "pred_lasso = lasso.predict(X_sub)\n",
    "y_prediction_train = lasso.predict(X_train)\n",
    "y_prediction_test = lasso.predict(X_test)\n",
    "print('Score')\n",
    "print('Train:',lasso.score(X_train,y_train))\n",
    "print('Test: ',lasso.score(X_test,y_test))\n",
    "print('Answr:',lasso.score(X_sub,np.log(ans_arr)))\n",
    "print('\\n')\n",
    "print('RMLSE')\n",
    "print('Train:',rmse(y_train,y_prediction_train))\n",
    "print('Test: ',rmse(y_test,y_prediction_test))\n",
    "print('Answr:',rmse(pred_lasso,np.log(ans_arr)))"
   ]
  },
  {
   "cell_type": "code",
   "execution_count": 64,
   "metadata": {},
   "outputs": [
    {
     "name": "stdout",
     "output_type": "stream",
     "text": [
      "Score\n",
      "Train: 0.9161802107392483\n",
      "Test:  0.8996603053738416\n",
      "Answr: 0.9011917469423032\n",
      "\n",
      "\n",
      "RMLSE\n",
      "Train: 0.5431962403203617\n",
      "Test:  0.5632618645512684\n",
      "Answr: 0.13086271839666774\n"
     ]
    }
   ],
   "source": [
    "lasso =  Lasso(alpha = 1e-8,max_iter = 100000).fit(X_train,y_train)\n",
    "pred_lasso = lasso.predict(X_sub)\n",
    "y_prediction_train = lasso.predict(X_train)\n",
    "y_prediction_test = lasso.predict(X_test)\n",
    "print('Score')\n",
    "print('Train:',lasso.score(X_train,y_train))\n",
    "print('Test: ',lasso.score(X_test,y_test))\n",
    "print('Answr:',lasso.score(X_sub,np.log(ans_arr)))\n",
    "print('\\n')\n",
    "print('RMLSE')\n",
    "print('Train:',rmse(y_train,y_prediction_train))\n",
    "print('Test: ',rmse(y_test,y_prediction_test))\n",
    "print('Answr:',rmse(pred_lasso,np.log(ans_arr)))"
   ]
  },
  {
   "cell_type": "code",
   "execution_count": 63,
   "metadata": {},
   "outputs": [
    {
     "name": "stdout",
     "output_type": "stream",
     "text": [
      "Score\n",
      "Train: 0.9154161785559704\n",
      "Test:  0.8988748870652737\n",
      "Answr: 0.9015670040182989\n",
      "\n",
      "\n",
      "RMLSE\n",
      "Train: 0.5428099717680699\n",
      "Test:  0.5628245497349227\n",
      "Answr: 0.13061398474604857\n"
     ]
    }
   ],
   "source": [
    "lasso =  Lasso(alpha = 0.000125,max_iter = 100000).fit(X_train,y_train)\n",
    "pred_lasso = lasso.predict(X_sub)\n",
    "y_prediction_train = lasso.predict(X_train)\n",
    "y_prediction_test = lasso.predict(X_test)\n",
    "print('Score')\n",
    "print('Train:',lasso.score(X_train,y_train))\n",
    "print('Test: ',lasso.score(X_test,y_test))\n",
    "print('Answr:',lasso.score(X_sub,np.log(ans_arr)))\n",
    "print('\\n')\n",
    "print('RMLSE')\n",
    "print('Train:',rmse(y_train,y_prediction_train))\n",
    "print('Test: ',rmse(y_test,y_prediction_test))\n",
    "print('Answr:',rmse(pred_lasso,np.log(ans_arr)))"
   ]
  },
  {
   "cell_type": "code",
   "execution_count": null,
   "metadata": {},
   "outputs": [],
   "source": []
  }
 ],
 "metadata": {
  "kernelspec": {
   "display_name": "Python 3",
   "language": "python",
   "name": "python3"
  },
  "language_info": {
   "codemirror_mode": {
    "name": "ipython",
    "version": 3
   },
   "file_extension": ".py",
   "mimetype": "text/x-python",
   "name": "python",
   "nbconvert_exporter": "python",
   "pygments_lexer": "ipython3",
   "version": "3.8.5"
  }
 },
 "nbformat": 4,
 "nbformat_minor": 4
}
